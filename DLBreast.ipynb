{
 "cells": [
  {
   "cell_type": "code",
   "id": "initial_id",
   "metadata": {
    "collapsed": true,
    "ExecuteTime": {
     "end_time": "2024-11-19T13:28:08.240833Z",
     "start_time": "2024-11-19T13:28:03.902208Z"
    }
   },
   "source": [
    "import tensorflow as tf\n",
    "from sklearn.datasets import load_breast_cancer\n",
    "from sklearn.model_selection import train_test_split\n",
    "from sklearn.preprocessing import StandardScaler\n",
    "from sklearn.metrics import accuracy_score\n",
    "import numpy as np"
   ],
   "outputs": [
    {
     "name": "stderr",
     "output_type": "stream",
     "text": [
      "/Users/someoneee112/Work/python/Naive Bayes/.venv/lib/python3.9/site-packages/urllib3/__init__.py:35: NotOpenSSLWarning: urllib3 v2 only supports OpenSSL 1.1.1+, currently the 'ssl' module is compiled with 'LibreSSL 2.8.3'. See: https://github.com/urllib3/urllib3/issues/3020\n",
      "  warnings.warn(\n"
     ]
    }
   ],
   "execution_count": 1
  },
  {
   "metadata": {
    "ExecuteTime": {
     "end_time": "2024-11-19T13:28:08.257022Z",
     "start_time": "2024-11-19T13:28:08.247378Z"
    }
   },
   "cell_type": "code",
   "source": [
    "data = load_breast_cancer()\n",
    "X = data.data  #fitur (input)\n",
    "y = data.target  #label (output: 0 = malignan, 1 = benign)\n",
    "\n",
    "#membagi dataset menjadi data training dan data uji\n",
    "X_train, X_test, y_train, y_test = train_test_split(X, y, test_size=0.2, random_state=42)\n",
    "\n",
    "#standarisasi fitur (normalisasi data)\n",
    "scaler = StandardScaler()\n",
    "X_train = scaler.fit_transform(X_train)\n",
    "X_test = scaler.transform(X_test)"
   ],
   "id": "c16292912939ddef",
   "outputs": [],
   "execution_count": 2
  },
  {
   "metadata": {
    "ExecuteTime": {
     "end_time": "2024-11-19T13:37:50.523818Z",
     "start_time": "2024-11-19T13:37:48.268378Z"
    }
   },
   "cell_type": "code",
   "source": [
    "#membangun model Sequential\n",
    "model = tf.keras.models.Sequential([\n",
    "    tf.keras.layers.Dense(30, activation='relu', input_shape=(X_train.shape[1],)),  #input layer\n",
    "    tf.keras.layers.Dense(15, activation='relu'),  #hidden layer 1\n",
    "    tf.keras.layers.Dense(1, activation='sigmoid')  #output layer untuk klasifikasi biner\n",
    "])\n",
    "\n",
    "#kompilasi model\n",
    "model.compile(optimizer='adam', loss='binary_crossentropy', metrics=['accuracy'])\n",
    "\n",
    "#melatih model\n",
    "model.fit(X_train, y_train, epochs=50, batch_size=16, validation_data=(X_test, y_test))\n",
    "\n",
    "#evaluasi model pada data uji\n",
    "test_loss, test_acc = model.evaluate(X_test, y_test)\n",
    "print(f'Akurasi pada data uji: {test_acc:.4f}')\n"
   ],
   "id": "684d7b0e8e0f663d",
   "outputs": [
    {
     "name": "stdout",
     "output_type": "stream",
     "text": [
      "Epoch 1/50\n"
     ]
    },
    {
     "name": "stderr",
     "output_type": "stream",
     "text": [
      "/Users/someoneee112/Work/python/Naive Bayes/.venv/lib/python3.9/site-packages/keras/src/layers/core/dense.py:87: UserWarning: Do not pass an `input_shape`/`input_dim` argument to a layer. When using Sequential models, prefer using an `Input(shape)` object as the first layer in the model instead.\n",
      "  super().__init__(activity_regularizer=activity_regularizer, **kwargs)\n"
     ]
    },
    {
     "name": "stdout",
     "output_type": "stream",
     "text": [
      "\u001B[1m29/29\u001B[0m \u001B[32m━━━━━━━━━━━━━━━━━━━━\u001B[0m\u001B[37m\u001B[0m \u001B[1m0s\u001B[0m 3ms/step - accuracy: 0.7009 - loss: 0.5827 - val_accuracy: 0.9298 - val_loss: 0.3428\n",
      "Epoch 2/50\n",
      "\u001B[1m29/29\u001B[0m \u001B[32m━━━━━━━━━━━━━━━━━━━━\u001B[0m\u001B[37m\u001B[0m \u001B[1m0s\u001B[0m 802us/step - accuracy: 0.9423 - loss: 0.2924 - val_accuracy: 0.9474 - val_loss: 0.2042\n",
      "Epoch 3/50\n",
      "\u001B[1m29/29\u001B[0m \u001B[32m━━━━━━━━━━━━━━━━━━━━\u001B[0m\u001B[37m\u001B[0m \u001B[1m0s\u001B[0m 784us/step - accuracy: 0.9580 - loss: 0.1860 - val_accuracy: 0.9561 - val_loss: 0.1429\n",
      "Epoch 4/50\n",
      "\u001B[1m29/29\u001B[0m \u001B[32m━━━━━━━━━━━━━━━━━━━━\u001B[0m\u001B[37m\u001B[0m \u001B[1m0s\u001B[0m 859us/step - accuracy: 0.9552 - loss: 0.1365 - val_accuracy: 0.9561 - val_loss: 0.1137\n",
      "Epoch 5/50\n",
      "\u001B[1m29/29\u001B[0m \u001B[32m━━━━━━━━━━━━━━━━━━━━\u001B[0m\u001B[37m\u001B[0m \u001B[1m0s\u001B[0m 888us/step - accuracy: 0.9643 - loss: 0.1149 - val_accuracy: 0.9649 - val_loss: 0.0973\n",
      "Epoch 6/50\n",
      "\u001B[1m29/29\u001B[0m \u001B[32m━━━━━━━━━━━━━━━━━━━━\u001B[0m\u001B[37m\u001B[0m \u001B[1m0s\u001B[0m 787us/step - accuracy: 0.9717 - loss: 0.0901 - val_accuracy: 0.9649 - val_loss: 0.0881\n",
      "Epoch 7/50\n",
      "\u001B[1m29/29\u001B[0m \u001B[32m━━━━━━━━━━━━━━━━━━━━\u001B[0m\u001B[37m\u001B[0m \u001B[1m0s\u001B[0m 805us/step - accuracy: 0.9833 - loss: 0.0710 - val_accuracy: 0.9649 - val_loss: 0.0804\n",
      "Epoch 8/50\n",
      "\u001B[1m29/29\u001B[0m \u001B[32m━━━━━━━━━━━━━━━━━━━━\u001B[0m\u001B[37m\u001B[0m \u001B[1m0s\u001B[0m 769us/step - accuracy: 0.9699 - loss: 0.0788 - val_accuracy: 0.9737 - val_loss: 0.0761\n",
      "Epoch 9/50\n",
      "\u001B[1m29/29\u001B[0m \u001B[32m━━━━━━━━━━━━━━━━━━━━\u001B[0m\u001B[37m\u001B[0m \u001B[1m0s\u001B[0m 795us/step - accuracy: 0.9763 - loss: 0.0950 - val_accuracy: 0.9737 - val_loss: 0.0717\n",
      "Epoch 10/50\n",
      "\u001B[1m29/29\u001B[0m \u001B[32m━━━━━━━━━━━━━━━━━━━━\u001B[0m\u001B[37m\u001B[0m \u001B[1m0s\u001B[0m 937us/step - accuracy: 0.9768 - loss: 0.0618 - val_accuracy: 0.9737 - val_loss: 0.0692\n",
      "Epoch 11/50\n",
      "\u001B[1m29/29\u001B[0m \u001B[32m━━━━━━━━━━━━━━━━━━━━\u001B[0m\u001B[37m\u001B[0m \u001B[1m0s\u001B[0m 810us/step - accuracy: 0.9853 - loss: 0.0527 - val_accuracy: 0.9737 - val_loss: 0.0663\n",
      "Epoch 12/50\n",
      "\u001B[1m29/29\u001B[0m \u001B[32m━━━━━━━━━━━━━━━━━━━━\u001B[0m\u001B[37m\u001B[0m \u001B[1m0s\u001B[0m 817us/step - accuracy: 0.9804 - loss: 0.0688 - val_accuracy: 0.9737 - val_loss: 0.0652\n",
      "Epoch 13/50\n",
      "\u001B[1m29/29\u001B[0m \u001B[32m━━━━━━━━━━━━━━━━━━━━\u001B[0m\u001B[37m\u001B[0m \u001B[1m0s\u001B[0m 828us/step - accuracy: 0.9921 - loss: 0.0411 - val_accuracy: 0.9737 - val_loss: 0.0622\n",
      "Epoch 14/50\n",
      "\u001B[1m29/29\u001B[0m \u001B[32m━━━━━━━━━━━━━━━━━━━━\u001B[0m\u001B[37m\u001B[0m \u001B[1m0s\u001B[0m 768us/step - accuracy: 0.9873 - loss: 0.0468 - val_accuracy: 0.9737 - val_loss: 0.0616\n",
      "Epoch 15/50\n",
      "\u001B[1m29/29\u001B[0m \u001B[32m━━━━━━━━━━━━━━━━━━━━\u001B[0m\u001B[37m\u001B[0m \u001B[1m0s\u001B[0m 761us/step - accuracy: 0.9811 - loss: 0.0530 - val_accuracy: 0.9737 - val_loss: 0.0613\n",
      "Epoch 16/50\n",
      "\u001B[1m29/29\u001B[0m \u001B[32m━━━━━━━━━━━━━━━━━━━━\u001B[0m\u001B[37m\u001B[0m \u001B[1m0s\u001B[0m 852us/step - accuracy: 0.9959 - loss: 0.0291 - val_accuracy: 0.9825 - val_loss: 0.0601\n",
      "Epoch 17/50\n",
      "\u001B[1m29/29\u001B[0m \u001B[32m━━━━━━━━━━━━━━━━━━━━\u001B[0m\u001B[37m\u001B[0m \u001B[1m0s\u001B[0m 881us/step - accuracy: 0.9906 - loss: 0.0320 - val_accuracy: 0.9825 - val_loss: 0.0599\n",
      "Epoch 18/50\n",
      "\u001B[1m29/29\u001B[0m \u001B[32m━━━━━━━━━━━━━━━━━━━━\u001B[0m\u001B[37m\u001B[0m \u001B[1m0s\u001B[0m 870us/step - accuracy: 0.9847 - loss: 0.0514 - val_accuracy: 0.9825 - val_loss: 0.0594\n",
      "Epoch 19/50\n",
      "\u001B[1m29/29\u001B[0m \u001B[32m━━━━━━━━━━━━━━━━━━━━\u001B[0m\u001B[37m\u001B[0m \u001B[1m0s\u001B[0m 789us/step - accuracy: 0.9855 - loss: 0.0466 - val_accuracy: 0.9825 - val_loss: 0.0580\n",
      "Epoch 20/50\n",
      "\u001B[1m29/29\u001B[0m \u001B[32m━━━━━━━━━━━━━━━━━━━━\u001B[0m\u001B[37m\u001B[0m \u001B[1m0s\u001B[0m 757us/step - accuracy: 0.9951 - loss: 0.0310 - val_accuracy: 0.9825 - val_loss: 0.0586\n",
      "Epoch 21/50\n",
      "\u001B[1m29/29\u001B[0m \u001B[32m━━━━━━━━━━━━━━━━━━━━\u001B[0m\u001B[37m\u001B[0m \u001B[1m0s\u001B[0m 876us/step - accuracy: 0.9874 - loss: 0.0430 - val_accuracy: 0.9825 - val_loss: 0.0600\n",
      "Epoch 22/50\n",
      "\u001B[1m29/29\u001B[0m \u001B[32m━━━━━━━━━━━━━━━━━━━━\u001B[0m\u001B[37m\u001B[0m \u001B[1m0s\u001B[0m 803us/step - accuracy: 0.9952 - loss: 0.0255 - val_accuracy: 0.9825 - val_loss: 0.0588\n",
      "Epoch 23/50\n",
      "\u001B[1m29/29\u001B[0m \u001B[32m━━━━━━━━━━━━━━━━━━━━\u001B[0m\u001B[37m\u001B[0m \u001B[1m0s\u001B[0m 929us/step - accuracy: 0.9945 - loss: 0.0308 - val_accuracy: 0.9825 - val_loss: 0.0599\n",
      "Epoch 24/50\n",
      "\u001B[1m29/29\u001B[0m \u001B[32m━━━━━━━━━━━━━━━━━━━━\u001B[0m\u001B[37m\u001B[0m \u001B[1m0s\u001B[0m 767us/step - accuracy: 0.9929 - loss: 0.0341 - val_accuracy: 0.9825 - val_loss: 0.0596\n",
      "Epoch 25/50\n",
      "\u001B[1m29/29\u001B[0m \u001B[32m━━━━━━━━━━━━━━━━━━━━\u001B[0m\u001B[37m\u001B[0m \u001B[1m0s\u001B[0m 800us/step - accuracy: 0.9928 - loss: 0.0288 - val_accuracy: 0.9825 - val_loss: 0.0605\n",
      "Epoch 26/50\n",
      "\u001B[1m29/29\u001B[0m \u001B[32m━━━━━━━━━━━━━━━━━━━━\u001B[0m\u001B[37m\u001B[0m \u001B[1m0s\u001B[0m 786us/step - accuracy: 0.9954 - loss: 0.0254 - val_accuracy: 0.9825 - val_loss: 0.0598\n",
      "Epoch 27/50\n",
      "\u001B[1m29/29\u001B[0m \u001B[32m━━━━━━━━━━━━━━━━━━━━\u001B[0m\u001B[37m\u001B[0m \u001B[1m0s\u001B[0m 811us/step - accuracy: 0.9892 - loss: 0.0281 - val_accuracy: 0.9825 - val_loss: 0.0616\n",
      "Epoch 28/50\n",
      "\u001B[1m29/29\u001B[0m \u001B[32m━━━━━━━━━━━━━━━━━━━━\u001B[0m\u001B[37m\u001B[0m \u001B[1m0s\u001B[0m 750us/step - accuracy: 0.9969 - loss: 0.0181 - val_accuracy: 0.9825 - val_loss: 0.0608\n",
      "Epoch 29/50\n",
      "\u001B[1m29/29\u001B[0m \u001B[32m━━━━━━━━━━━━━━━━━━━━\u001B[0m\u001B[37m\u001B[0m \u001B[1m0s\u001B[0m 820us/step - accuracy: 0.9957 - loss: 0.0185 - val_accuracy: 0.9737 - val_loss: 0.0625\n",
      "Epoch 30/50\n",
      "\u001B[1m29/29\u001B[0m \u001B[32m━━━━━━━━━━━━━━━━━━━━\u001B[0m\u001B[37m\u001B[0m \u001B[1m0s\u001B[0m 777us/step - accuracy: 0.9915 - loss: 0.0228 - val_accuracy: 0.9825 - val_loss: 0.0619\n",
      "Epoch 31/50\n",
      "\u001B[1m29/29\u001B[0m \u001B[32m━━━━━━━━━━━━━━━━━━━━\u001B[0m\u001B[37m\u001B[0m \u001B[1m0s\u001B[0m 916us/step - accuracy: 0.9928 - loss: 0.0171 - val_accuracy: 0.9737 - val_loss: 0.0638\n",
      "Epoch 32/50\n",
      "\u001B[1m29/29\u001B[0m \u001B[32m━━━━━━━━━━━━━━━━━━━━\u001B[0m\u001B[37m\u001B[0m \u001B[1m0s\u001B[0m 762us/step - accuracy: 0.9979 - loss: 0.0175 - val_accuracy: 0.9737 - val_loss: 0.0640\n",
      "Epoch 33/50\n",
      "\u001B[1m29/29\u001B[0m \u001B[32m━━━━━━━━━━━━━━━━━━━━\u001B[0m\u001B[37m\u001B[0m \u001B[1m0s\u001B[0m 812us/step - accuracy: 0.9966 - loss: 0.0125 - val_accuracy: 0.9737 - val_loss: 0.0641\n",
      "Epoch 34/50\n",
      "\u001B[1m29/29\u001B[0m \u001B[32m━━━━━━━━━━━━━━━━━━━━\u001B[0m\u001B[37m\u001B[0m \u001B[1m0s\u001B[0m 828us/step - accuracy: 0.9886 - loss: 0.0202 - val_accuracy: 0.9737 - val_loss: 0.0654\n",
      "Epoch 35/50\n",
      "\u001B[1m29/29\u001B[0m \u001B[32m━━━━━━━━━━━━━━━━━━━━\u001B[0m\u001B[37m\u001B[0m \u001B[1m0s\u001B[0m 773us/step - accuracy: 0.9926 - loss: 0.0189 - val_accuracy: 0.9737 - val_loss: 0.0657\n",
      "Epoch 36/50\n",
      "\u001B[1m29/29\u001B[0m \u001B[32m━━━━━━━━━━━━━━━━━━━━\u001B[0m\u001B[37m\u001B[0m \u001B[1m0s\u001B[0m 804us/step - accuracy: 0.9955 - loss: 0.0112 - val_accuracy: 0.9737 - val_loss: 0.0661\n",
      "Epoch 37/50\n",
      "\u001B[1m29/29\u001B[0m \u001B[32m━━━━━━━━━━━━━━━━━━━━\u001B[0m\u001B[37m\u001B[0m \u001B[1m0s\u001B[0m 801us/step - accuracy: 0.9999 - loss: 0.0113 - val_accuracy: 0.9737 - val_loss: 0.0657\n",
      "Epoch 38/50\n",
      "\u001B[1m29/29\u001B[0m \u001B[32m━━━━━━━━━━━━━━━━━━━━\u001B[0m\u001B[37m\u001B[0m \u001B[1m0s\u001B[0m 792us/step - accuracy: 0.9983 - loss: 0.0129 - val_accuracy: 0.9737 - val_loss: 0.0697\n",
      "Epoch 39/50\n",
      "\u001B[1m29/29\u001B[0m \u001B[32m━━━━━━━━━━━━━━━━━━━━\u001B[0m\u001B[37m\u001B[0m \u001B[1m0s\u001B[0m 807us/step - accuracy: 0.9966 - loss: 0.0120 - val_accuracy: 0.9737 - val_loss: 0.0706\n",
      "Epoch 40/50\n",
      "\u001B[1m29/29\u001B[0m \u001B[32m━━━━━━━━━━━━━━━━━━━━\u001B[0m\u001B[37m\u001B[0m \u001B[1m0s\u001B[0m 791us/step - accuracy: 0.9983 - loss: 0.0111 - val_accuracy: 0.9737 - val_loss: 0.0699\n",
      "Epoch 41/50\n",
      "\u001B[1m29/29\u001B[0m \u001B[32m━━━━━━━━━━━━━━━━━━━━\u001B[0m\u001B[37m\u001B[0m \u001B[1m0s\u001B[0m 772us/step - accuracy: 0.9956 - loss: 0.0113 - val_accuracy: 0.9737 - val_loss: 0.0698\n",
      "Epoch 42/50\n",
      "\u001B[1m29/29\u001B[0m \u001B[32m━━━━━━━━━━━━━━━━━━━━\u001B[0m\u001B[37m\u001B[0m \u001B[1m0s\u001B[0m 782us/step - accuracy: 0.9994 - loss: 0.0079 - val_accuracy: 0.9737 - val_loss: 0.0706\n",
      "Epoch 43/50\n",
      "\u001B[1m29/29\u001B[0m \u001B[32m━━━━━━━━━━━━━━━━━━━━\u001B[0m\u001B[37m\u001B[0m \u001B[1m0s\u001B[0m 767us/step - accuracy: 0.9987 - loss: 0.0102 - val_accuracy: 0.9737 - val_loss: 0.0713\n",
      "Epoch 44/50\n",
      "\u001B[1m29/29\u001B[0m \u001B[32m━━━━━━━━━━━━━━━━━━━━\u001B[0m\u001B[37m\u001B[0m \u001B[1m0s\u001B[0m 785us/step - accuracy: 0.9996 - loss: 0.0093 - val_accuracy: 0.9737 - val_loss: 0.0718\n",
      "Epoch 45/50\n",
      "\u001B[1m29/29\u001B[0m \u001B[32m━━━━━━━━━━━━━━━━━━━━\u001B[0m\u001B[37m\u001B[0m \u001B[1m0s\u001B[0m 818us/step - accuracy: 0.9955 - loss: 0.0118 - val_accuracy: 0.9737 - val_loss: 0.0739\n",
      "Epoch 46/50\n",
      "\u001B[1m29/29\u001B[0m \u001B[32m━━━━━━━━━━━━━━━━━━━━\u001B[0m\u001B[37m\u001B[0m \u001B[1m0s\u001B[0m 744us/step - accuracy: 0.9976 - loss: 0.0090 - val_accuracy: 0.9737 - val_loss: 0.0740\n",
      "Epoch 47/50\n",
      "\u001B[1m29/29\u001B[0m \u001B[32m━━━━━━━━━━━━━━━━━━━━\u001B[0m\u001B[37m\u001B[0m \u001B[1m0s\u001B[0m 808us/step - accuracy: 0.9917 - loss: 0.0101 - val_accuracy: 0.9737 - val_loss: 0.0765\n",
      "Epoch 48/50\n",
      "\u001B[1m29/29\u001B[0m \u001B[32m━━━━━━━━━━━━━━━━━━━━\u001B[0m\u001B[37m\u001B[0m \u001B[1m0s\u001B[0m 803us/step - accuracy: 0.9998 - loss: 0.0055 - val_accuracy: 0.9737 - val_loss: 0.0753\n",
      "Epoch 49/50\n",
      "\u001B[1m29/29\u001B[0m \u001B[32m━━━━━━━━━━━━━━━━━━━━\u001B[0m\u001B[37m\u001B[0m \u001B[1m0s\u001B[0m 815us/step - accuracy: 1.0000 - loss: 0.0079 - val_accuracy: 0.9737 - val_loss: 0.0783\n",
      "Epoch 50/50\n",
      "\u001B[1m29/29\u001B[0m \u001B[32m━━━━━━━━━━━━━━━━━━━━\u001B[0m\u001B[37m\u001B[0m \u001B[1m0s\u001B[0m 766us/step - accuracy: 1.0000 - loss: 0.0064 - val_accuracy: 0.9737 - val_loss: 0.0777\n",
      "\u001B[1m4/4\u001B[0m \u001B[32m━━━━━━━━━━━━━━━━━━━━\u001B[0m\u001B[37m\u001B[0m \u001B[1m0s\u001B[0m 1ms/step - accuracy: 0.9738 - loss: 0.1070  \n",
      "Akurasi pada data uji: 0.9737\n"
     ]
    }
   ],
   "execution_count": 3
  },
  {
   "metadata": {
    "ExecuteTime": {
     "end_time": "2024-11-19T13:46:46.039826Z",
     "start_time": "2024-11-19T13:46:45.998270Z"
    }
   },
   "cell_type": "code",
   "source": [
    "# Contoh data baru (sesuai format dataset kanker payudara)\n",
    "new_data = np.array([14.13, 20.39, 89.56, 600.4, 0.1099, 0.1582, 0.1204, 0.05883, 0.1954, 0.05945,\n",
    "                     0.2819, 0.7291, 1.969, 24.79, 0.007928, 0.05945, 0.05963, 0.01567, 0.02773, 0.003002,\n",
    "                     16.56, 29.66, 113.8, 869.3, 0.1482, 0.4059, 0.3775, 0.1669, 0.4531, 0.09604])\n",
    "def predik(data):\n",
    "    new_data_scaled = scaler.transform([data])\n",
    "    predict = model.predict(new_data_scaled)\n",
    "    return 'Malignan' if predict[0][0] > 0.5 else 'Benign'\n",
    "\n",
    "prediction = predik(new_data)\n",
    "print(f\"Prediksi untuk data : {prediction}\")"
   ],
   "id": "82ae1f8951b6faef",
   "outputs": [
    {
     "name": "stdout",
     "output_type": "stream",
     "text": [
      "\u001B[1m1/1\u001B[0m \u001B[32m━━━━━━━━━━━━━━━━━━━━\u001B[0m\u001B[37m\u001B[0m \u001B[1m0s\u001B[0m 10ms/step\n",
      "Prediksi untuk data : Benign\n"
     ]
    }
   ],
   "execution_count": 7
  },
  {
   "metadata": {
    "ExecuteTime": {
     "end_time": "2024-11-19T13:46:43.187614Z",
     "start_time": "2024-11-19T13:46:43.183988Z"
    }
   },
   "cell_type": "code",
   "source": "",
   "id": "771f7ed298867d8e",
   "outputs": [],
   "execution_count": null
  },
  {
   "metadata": {},
   "cell_type": "code",
   "outputs": [],
   "execution_count": null,
   "source": "",
   "id": "b48de644b2e6541e"
  }
 ],
 "metadata": {
  "kernelspec": {
   "display_name": "Python 3",
   "language": "python",
   "name": "python3"
  },
  "language_info": {
   "codemirror_mode": {
    "name": "ipython",
    "version": 2
   },
   "file_extension": ".py",
   "mimetype": "text/x-python",
   "name": "python",
   "nbconvert_exporter": "python",
   "pygments_lexer": "ipython2",
   "version": "2.7.6"
  }
 },
 "nbformat": 4,
 "nbformat_minor": 5
}
