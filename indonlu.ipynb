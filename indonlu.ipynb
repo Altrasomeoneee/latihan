{
 "cells": [
  {
   "cell_type": "code",
   "id": "initial_id",
   "metadata": {
    "collapsed": true,
    "ExecuteTime": {
     "end_time": "2024-11-19T14:11:09.726470Z",
     "start_time": "2024-11-19T14:11:09.259276Z"
    }
   },
   "source": [
    "import pandas as pd\n",
    "import re\n",
    "\n",
    "from keras.src.utils import pad_sequences\n",
    "from sklearn.model_selection import train_test_split\n",
    "from sklearn.preprocessing import LabelEncoder\n",
    "\n",
    "#membaca dataset dari file Excel\n",
    "data = pd.read_excel(\"Indonlu_Sentiment.xlsx\")  #ganti dengan lokasi dataset Anda\n",
    "print(\"Sample Data Sebelum Preprocessing:\")\n",
    "print(data.head())\n",
    "\n",
    "#2. preprocessing\n",
    "def preprocess_text(text):\n",
    "    text = re.sub(r'[^a-zA-Z\\s]', '', text)  #menghapus angka dan tanda baca\n",
    "    text = text.lower()  #mengubah semua huruf menjadi huruf kecil\n",
    "    return text\n",
    "\n",
    "#preprocessing data\n",
    "data['cleaned_review'] = data['Tweet'].apply(preprocess_text)\n",
    "\n",
    "#menampilkan sample setelah preprocessing\n",
    "print(\"\\nSample Data Setelah Preprocessing:\")\n",
    "print(data['cleaned_review'].head())\n",
    "\n",
    "#3. mengonversi label menjadi numerik\n",
    "le = LabelEncoder()\n",
    "data['label'] = le.fit_transform(data['Label'])\n",
    "print(data['label'].head())\n"
   ],
   "outputs": [
    {
     "name": "stdout",
     "output_type": "stream",
     "text": [
      "Sample Data Sebelum Preprocessing:\n",
      "                                               Tweet     Label\n",
      "0  warung ini dimiliki oleh pengusaha pabrik tahu...  positive\n",
      "1  mohon ulama lurus dan k212 mmbri hujjah partai...   neutral\n",
      "2  lokasi strategis di jalan sumatera bandung . t...  positive\n",
      "3  betapa bahagia nya diri ini saat unboxing pake...  positive\n",
      "4  duh . jadi mahasiswa jangan sombong dong . kas...  negative\n",
      "\n",
      "Sample Data Setelah Preprocessing:\n",
      "0    warung ini dimiliki oleh pengusaha pabrik tahu...\n",
      "1    mohon ulama lurus dan k mmbri hujjah partai ap...\n",
      "2    lokasi strategis di jalan sumatera bandung  te...\n",
      "3    betapa bahagia nya diri ini saat unboxing pake...\n",
      "4    duh  jadi mahasiswa jangan sombong dong  kasih...\n",
      "Name: cleaned_review, dtype: object\n",
      "0    2\n",
      "1    1\n",
      "2    2\n",
      "3    2\n",
      "4    0\n",
      "Name: label, dtype: int64\n"
     ]
    }
   ],
   "execution_count": 3
  },
  {
   "metadata": {
    "ExecuteTime": {
     "end_time": "2024-11-19T14:34:30.591228Z",
     "start_time": "2024-11-19T14:34:30.061623Z"
    }
   },
   "cell_type": "code",
   "source": [
    "from tensorflow.keras.preprocessing.text import Tokenizer\n",
    "from tensorflow.keras.preprocessing.sequence import pad_sequences\n",
    "X_train,X_test,y_train,y_test=train_test_split(data['cleaned_review'],data['label'], test_size=0.2, random_state=42)\n",
    "\n",
    "tokenizer = Tokenizer(num_words = 5000, oov_token = \"<OOV>\")\n",
    "tokenizer.fit_on_texts(X_train)\n",
    "X_train_seq = tokenizer.texts_to_sequences(X_train)\n",
    "X_test_seq= tokenizer.texts_to_sequences(X_test)\n",
    "max_length = 100\n",
    "X_train_padded = pad_sequences(X_train_seq, maxlen=max_length, padding='post', truncating='post')\n",
    "X_test_padded = pad_sequences(X_test_seq, maxlen=max_length, padding='post', truncating='post')"
   ],
   "id": "8a9898119fb5d16c",
   "outputs": [],
   "execution_count": 8
  },
  {
   "metadata": {},
   "cell_type": "code",
   "outputs": [],
   "execution_count": null,
   "source": "",
   "id": "3db4853c6fe98e51"
  }
 ],
 "metadata": {
  "kernelspec": {
   "display_name": "Python 3",
   "language": "python",
   "name": "python3"
  },
  "language_info": {
   "codemirror_mode": {
    "name": "ipython",
    "version": 2
   },
   "file_extension": ".py",
   "mimetype": "text/x-python",
   "name": "python",
   "nbconvert_exporter": "python",
   "pygments_lexer": "ipython2",
   "version": "2.7.6"
  }
 },
 "nbformat": 4,
 "nbformat_minor": 5
}
